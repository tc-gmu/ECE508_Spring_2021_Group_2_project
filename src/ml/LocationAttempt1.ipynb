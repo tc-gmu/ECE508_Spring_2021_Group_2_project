{
  "nbformat": 4,
  "nbformat_minor": 0,
  "metadata": {
    "colab": {
      "name": "LocationAttempt1.ipynb",
      "provenance": [],
      "collapsed_sections": []
    },
    "kernelspec": {
      "name": "python3",
      "display_name": "Python 3"
    }
  },
  "cells": [
    {
      "cell_type": "markdown",
      "metadata": {
        "id": "f92-4Hjy7kA8"
      },
      "source": [
        "<a href=\"https://www.arduino.cc/\"><img src=\"https://raw.githubusercontent.com/sandeepmistry/aimldevfest-workshop-2019/master/images/Arduino_logo_R_highquality.png\" width=200/></a>\n",
        "# Tiny ML on Arduino\n",
        "\n",
        "This was built by following the \n",
        "## Classify objects by color tutorial\n",
        "https://github.com/arduino/ArduinoTensorFlowLiteTutorials/"
      ]
    },
    {
      "cell_type": "markdown",
      "metadata": {
        "id": "uvDA8AK7QOq-"
      },
      "source": [
        "## Setup Python Environment \n",
        "\n",
        "The next cell sets up the dependencies in required for the notebook, run it."
      ]
    },
    {
      "cell_type": "code",
      "metadata": {
        "id": "Y2gs-PL4xDkZ",
        "colab": {
          "base_uri": "https://localhost:8080/"
        },
        "outputId": "09b8f834-6e6f-4fdf-fccf-d39fb8d78e35"
      },
      "source": [
        "# Setup environment\n",
        "!apt-get -qq install xxd\n",
        "!pip install pandas numpy matplotlib\n",
        "%tensorflow_version 2.x\n",
        "!pip install tensorflow"
      ],
      "execution_count": 1,
      "outputs": [
        {
          "output_type": "stream",
          "text": [
            "Selecting previously unselected package xxd.\n",
            "(Reading database ... 160690 files and directories currently installed.)\n",
            "Preparing to unpack .../xxd_2%3a8.0.1453-1ubuntu1.4_amd64.deb ...\n",
            "Unpacking xxd (2:8.0.1453-1ubuntu1.4) ...\n",
            "Setting up xxd (2:8.0.1453-1ubuntu1.4) ...\n",
            "Processing triggers for man-db (2.8.3-2ubuntu0.1) ...\n",
            "Requirement already satisfied: pandas in /usr/local/lib/python3.7/dist-packages (1.1.5)\n",
            "Requirement already satisfied: numpy in /usr/local/lib/python3.7/dist-packages (1.19.5)\n",
            "Requirement already satisfied: matplotlib in /usr/local/lib/python3.7/dist-packages (3.2.2)\n",
            "Requirement already satisfied: pytz>=2017.2 in /usr/local/lib/python3.7/dist-packages (from pandas) (2018.9)\n",
            "Requirement already satisfied: python-dateutil>=2.7.3 in /usr/local/lib/python3.7/dist-packages (from pandas) (2.8.1)\n",
            "Requirement already satisfied: cycler>=0.10 in /usr/local/lib/python3.7/dist-packages (from matplotlib) (0.10.0)\n",
            "Requirement already satisfied: pyparsing!=2.0.4,!=2.1.2,!=2.1.6,>=2.0.1 in /usr/local/lib/python3.7/dist-packages (from matplotlib) (2.4.7)\n",
            "Requirement already satisfied: kiwisolver>=1.0.1 in /usr/local/lib/python3.7/dist-packages (from matplotlib) (1.3.1)\n",
            "Requirement already satisfied: six>=1.5 in /usr/local/lib/python3.7/dist-packages (from python-dateutil>=2.7.3->pandas) (1.15.0)\n",
            "Requirement already satisfied: tensorflow in /usr/local/lib/python3.7/dist-packages (2.4.1)\n",
            "Requirement already satisfied: numpy~=1.19.2 in /usr/local/lib/python3.7/dist-packages (from tensorflow) (1.19.5)\n",
            "Requirement already satisfied: astunparse~=1.6.3 in /usr/local/lib/python3.7/dist-packages (from tensorflow) (1.6.3)\n",
            "Requirement already satisfied: keras-preprocessing~=1.1.2 in /usr/local/lib/python3.7/dist-packages (from tensorflow) (1.1.2)\n",
            "Requirement already satisfied: protobuf>=3.9.2 in /usr/local/lib/python3.7/dist-packages (from tensorflow) (3.12.4)\n",
            "Requirement already satisfied: absl-py~=0.10 in /usr/local/lib/python3.7/dist-packages (from tensorflow) (0.12.0)\n",
            "Requirement already satisfied: typing-extensions~=3.7.4 in /usr/local/lib/python3.7/dist-packages (from tensorflow) (3.7.4.3)\n",
            "Requirement already satisfied: google-pasta~=0.2 in /usr/local/lib/python3.7/dist-packages (from tensorflow) (0.2.0)\n",
            "Requirement already satisfied: wheel~=0.35 in /usr/local/lib/python3.7/dist-packages (from tensorflow) (0.36.2)\n",
            "Requirement already satisfied: termcolor~=1.1.0 in /usr/local/lib/python3.7/dist-packages (from tensorflow) (1.1.0)\n",
            "Requirement already satisfied: opt-einsum~=3.3.0 in /usr/local/lib/python3.7/dist-packages (from tensorflow) (3.3.0)\n",
            "Requirement already satisfied: h5py~=2.10.0 in /usr/local/lib/python3.7/dist-packages (from tensorflow) (2.10.0)\n",
            "Requirement already satisfied: wrapt~=1.12.1 in /usr/local/lib/python3.7/dist-packages (from tensorflow) (1.12.1)\n",
            "Requirement already satisfied: tensorboard~=2.4 in /usr/local/lib/python3.7/dist-packages (from tensorflow) (2.4.1)\n",
            "Requirement already satisfied: gast==0.3.3 in /usr/local/lib/python3.7/dist-packages (from tensorflow) (0.3.3)\n",
            "Requirement already satisfied: flatbuffers~=1.12.0 in /usr/local/lib/python3.7/dist-packages (from tensorflow) (1.12)\n",
            "Requirement already satisfied: grpcio~=1.32.0 in /usr/local/lib/python3.7/dist-packages (from tensorflow) (1.32.0)\n",
            "Requirement already satisfied: six~=1.15.0 in /usr/local/lib/python3.7/dist-packages (from tensorflow) (1.15.0)\n",
            "Requirement already satisfied: tensorflow-estimator<2.5.0,>=2.4.0 in /usr/local/lib/python3.7/dist-packages (from tensorflow) (2.4.0)\n",
            "Requirement already satisfied: setuptools in /usr/local/lib/python3.7/dist-packages (from protobuf>=3.9.2->tensorflow) (56.0.0)\n",
            "Requirement already satisfied: requests<3,>=2.21.0 in /usr/local/lib/python3.7/dist-packages (from tensorboard~=2.4->tensorflow) (2.23.0)\n",
            "Requirement already satisfied: tensorboard-plugin-wit>=1.6.0 in /usr/local/lib/python3.7/dist-packages (from tensorboard~=2.4->tensorflow) (1.8.0)\n",
            "Requirement already satisfied: google-auth-oauthlib<0.5,>=0.4.1 in /usr/local/lib/python3.7/dist-packages (from tensorboard~=2.4->tensorflow) (0.4.4)\n",
            "Requirement already satisfied: werkzeug>=0.11.15 in /usr/local/lib/python3.7/dist-packages (from tensorboard~=2.4->tensorflow) (1.0.1)\n",
            "Requirement already satisfied: google-auth<2,>=1.6.3 in /usr/local/lib/python3.7/dist-packages (from tensorboard~=2.4->tensorflow) (1.28.1)\n",
            "Requirement already satisfied: markdown>=2.6.8 in /usr/local/lib/python3.7/dist-packages (from tensorboard~=2.4->tensorflow) (3.3.4)\n",
            "Requirement already satisfied: chardet<4,>=3.0.2 in /usr/local/lib/python3.7/dist-packages (from requests<3,>=2.21.0->tensorboard~=2.4->tensorflow) (3.0.4)\n",
            "Requirement already satisfied: idna<3,>=2.5 in /usr/local/lib/python3.7/dist-packages (from requests<3,>=2.21.0->tensorboard~=2.4->tensorflow) (2.10)\n",
            "Requirement already satisfied: urllib3!=1.25.0,!=1.25.1,<1.26,>=1.21.1 in /usr/local/lib/python3.7/dist-packages (from requests<3,>=2.21.0->tensorboard~=2.4->tensorflow) (1.24.3)\n",
            "Requirement already satisfied: certifi>=2017.4.17 in /usr/local/lib/python3.7/dist-packages (from requests<3,>=2.21.0->tensorboard~=2.4->tensorflow) (2020.12.5)\n",
            "Requirement already satisfied: requests-oauthlib>=0.7.0 in /usr/local/lib/python3.7/dist-packages (from google-auth-oauthlib<0.5,>=0.4.1->tensorboard~=2.4->tensorflow) (1.3.0)\n",
            "Requirement already satisfied: pyasn1-modules>=0.2.1 in /usr/local/lib/python3.7/dist-packages (from google-auth<2,>=1.6.3->tensorboard~=2.4->tensorflow) (0.2.8)\n",
            "Requirement already satisfied: cachetools<5.0,>=2.0.0 in /usr/local/lib/python3.7/dist-packages (from google-auth<2,>=1.6.3->tensorboard~=2.4->tensorflow) (4.2.1)\n",
            "Requirement already satisfied: rsa<5,>=3.1.4; python_version >= \"3.6\" in /usr/local/lib/python3.7/dist-packages (from google-auth<2,>=1.6.3->tensorboard~=2.4->tensorflow) (4.7.2)\n",
            "Requirement already satisfied: importlib-metadata; python_version < \"3.8\" in /usr/local/lib/python3.7/dist-packages (from markdown>=2.6.8->tensorboard~=2.4->tensorflow) (3.10.1)\n",
            "Requirement already satisfied: oauthlib>=3.0.0 in /usr/local/lib/python3.7/dist-packages (from requests-oauthlib>=0.7.0->google-auth-oauthlib<0.5,>=0.4.1->tensorboard~=2.4->tensorflow) (3.1.0)\n",
            "Requirement already satisfied: pyasn1<0.5.0,>=0.4.6 in /usr/local/lib/python3.7/dist-packages (from pyasn1-modules>=0.2.1->google-auth<2,>=1.6.3->tensorboard~=2.4->tensorflow) (0.4.8)\n",
            "Requirement already satisfied: zipp>=0.5 in /usr/local/lib/python3.7/dist-packages (from importlib-metadata; python_version < \"3.8\"->markdown>=2.6.8->tensorboard~=2.4->tensorflow) (3.4.1)\n"
          ],
          "name": "stdout"
        }
      ]
    },
    {
      "cell_type": "markdown",
      "metadata": {
        "id": "9lwkeshJk7dg"
      },
      "source": [
        "# Upload Data\n",
        "\n",
        "1. Open the panel on the left side of Colab by clicking on the __>__\n",
        "1. Select the Files tab\n",
        "1. Drag `csv` files from your computer to the tab to upload them into colab."
      ]
    },
    {
      "cell_type": "markdown",
      "metadata": {
        "id": "kSxUeYPNQbOg"
      },
      "source": [
        "# Train Neural Network\n",
        "\n",
        "\n",
        "\n"
      ]
    },
    {
      "cell_type": "markdown",
      "metadata": {
        "id": "Gxk414PU3oy3"
      },
      "source": [
        "## Parse and prepare the data\n",
        "\n",
        "The next cell parses the csv files and transforms them to a format that will be used to train the full connected neural network.\n",
        "\n"
      ]
    },
    {
      "cell_type": "code",
      "metadata": {
        "id": "AGChd1FAk5_j",
        "colab": {
          "base_uri": "https://localhost:8080/"
        },
        "outputId": "65c77daa-866d-47bf-ccd1-745b73228a86"
      },
      "source": [
        "import matplotlib.pyplot as plt\n",
        "import numpy as np\n",
        "import pandas as pd\n",
        "import tensorflow as tf\n",
        "import os\n",
        "import fileinput\n",
        "\n",
        "print(f\"TensorFlow version = {tf.__version__}\\n\")\n",
        "\n",
        "# Set a fixed random seed value, for reproducibility, this will allow us to get\n",
        "# the same random numbers each time the notebook is run\n",
        "SEED = 1337\n",
        "np.random.seed(SEED)\n",
        "tf.random.set_seed(SEED)\n",
        "\n",
        "CLASSES = [];\n",
        "\n",
        "for file in os.listdir(\"/content/\"):\n",
        "    if file.endswith(\".csv\"):\n",
        "        CLASSES.append(os.path.splitext(file)[0])\n",
        "print(CLASSES)\n",
        "CLASSES.sort()\n",
        "\n",
        "SAMPLES_WINDOW_LEN = 1\n",
        "NUM_CLASSES = len(CLASSES)\n",
        "\n",
        "# create a one-hot encoded matrix that is used in the output\n",
        "ONE_HOT_ENCODED_CLASSES = np.eye(NUM_CLASSES)\n",
        "\n",
        "inputs = []\n",
        "outputs = []\n",
        "\n",
        "# read each csv file and push an input and output\n",
        "for class_index in range(NUM_CLASSES):\n",
        "  objectClass = CLASSES[class_index]\n",
        "  df = pd.read_csv(\"/content/\" + objectClass + \".csv\")\n",
        "  columns = list(df)\n",
        "  # get rid of pesky empty value lines of csv which cause NaN inputs to TensorFlow\n",
        "  df = df.dropna()\n",
        "  df = df.reset_index(drop=True)\n",
        "   \n",
        "  # calculate the number of objectClass recordings in the file\n",
        "  num_recordings = int(df.shape[0] / SAMPLES_WINDOW_LEN)\n",
        "  print(f\"\\u001b[32;4m{objectClass}\\u001b[0m class will be output \\u001b[32m{class_index}\\u001b[0m of the classifier\")\n",
        "  print(f\"{num_recordings} samples captured for training with inputs {list(df)} \\n\")\n",
        "\n",
        "  # graphing\n",
        "#  plt.rcParams[\"figure.figsize\"] = (10,1)\n",
        "#  pixels = np.array([df['0'],df['1'],df['2']],float)\n",
        "#  pixels = np.transpose(pixels)\n",
        "#  for i in range(num_recordings):\n",
        "#    plt.axvline(x=i, linewidth=8, color=tuple(pixels[i]/np.max(pixels[i], axis=0)))\n",
        "#  plt.show()\n",
        "  \n",
        "  #tensors\n",
        "  output = ONE_HOT_ENCODED_CLASSES[class_index]\n",
        "  for i in range(num_recordings):\n",
        "    tensor = []\n",
        "    row = []\n",
        "    for c in columns:\n",
        "      row.append(df[c][i])\n",
        "    tensor += row\n",
        "    inputs.append(tensor)\n",
        "    outputs.append(output)\n",
        "\n",
        "# convert the list to numpy array\n",
        "inputs = np.array(inputs)\n",
        "outputs = np.array(outputs)\n",
        "\n",
        "print(\"Data set parsing and preparation complete.\")\n",
        "\n",
        "# Randomize the order of the inputs, so they can be evenly distributed for training, testing, and validation\n",
        "# https://stackoverflow.com/a/37710486/2020087\n",
        "num_inputs = len(inputs)\n",
        "randomize = np.arange(num_inputs)\n",
        "np.random.shuffle(randomize)\n",
        "\n",
        "# Swap the consecutive indexes (0, 1, 2, etc) with the randomized indexes\n",
        "inputs = inputs[randomize]\n",
        "outputs = outputs[randomize]\n",
        "\n",
        "# Split the recordings (group of samples) into three sets: training, testing and validation\n",
        "TRAIN_SPLIT = int(0.6 * num_inputs)\n",
        "TEST_SPLIT = int(0.2 * num_inputs + TRAIN_SPLIT)\n",
        "\n",
        "inputs_train, inputs_test, inputs_validate = np.split(inputs, [TRAIN_SPLIT, TEST_SPLIT])\n",
        "outputs_train, outputs_test, outputs_validate = np.split(outputs, [TRAIN_SPLIT, TEST_SPLIT])\n",
        "\n",
        "print(\"Data set randomization and splitting complete.\")\n",
        "print(inputs_train)"
      ],
      "execution_count": 2,
      "outputs": [
        {
          "output_type": "stream",
          "text": [
            "TensorFlow version = 2.4.1\n",
            "\n",
            "['3_ZONE', '2_ZONE', '4_ZONE', '0_ZONE', '1_ZONE']\n",
            "\u001b[32;4m0_ZONE\u001b[0m class will be output \u001b[32m0\u001b[0m of the classifier\n",
            "374 samples captured for training with inputs ['1', '2', '3', '4', '5', '6', '7', '8', '9', '10', '11', '12', '13', '14', '15', '16', '17', '18', '19', '20', '21', '22', '23', '24', '25', '26', '27', '28', '29', '30'] \n",
            "\n",
            "\u001b[32;4m1_ZONE\u001b[0m class will be output \u001b[32m1\u001b[0m of the classifier\n",
            "365 samples captured for training with inputs ['1', '2', '3', '4', '5', '6', '7', '8', '9', '10', '11', '12', '13', '14', '15', '16', '17', '18', '19', '20', '21', '22', '23', '24', '25', '26', '27', '28', '29', '30'] \n",
            "\n",
            "\u001b[32;4m2_ZONE\u001b[0m class will be output \u001b[32m2\u001b[0m of the classifier\n",
            "371 samples captured for training with inputs ['1', '2', '3', '4', '5', '6', '7', '8', '9', '10', '11', '12', '13', '14', '15', '16', '17', '18', '19', '20', '21', '22', '23', '24', '25', '26', '27', '28', '29', '30'] \n",
            "\n",
            "\u001b[32;4m3_ZONE\u001b[0m class will be output \u001b[32m3\u001b[0m of the classifier\n",
            "380 samples captured for training with inputs ['1', '2', '3', '4', '5', '6', '7', '8', '9', '10', '11', '12', '13', '14', '15', '16', '17', '18', '19', '20', '21', '22', '23', '24', '25', '26', '27', '28', '29', '30'] \n",
            "\n",
            "\u001b[32;4m4_ZONE\u001b[0m class will be output \u001b[32m4\u001b[0m of the classifier\n",
            "376 samples captured for training with inputs ['1', '2', '3', '4', '5', '6', '7', '8', '9', '10', '11', '12', '13', '14', '15', '16', '17', '18', '19', '20', '21', '22', '23', '24', '25', '26', '27', '28', '29', '30'] \n",
            "\n",
            "Data set parsing and preparation complete.\n",
            "Data set randomization and splitting complete.\n",
            "[[  0.   -60.5  -37.5  ... -71.     0.   -70.71]\n",
            " [  0.   -57.22 -47.74 ... -71.     0.   -61.5 ]\n",
            " [  0.   -57.   -44.   ... -69.     0.   -61.33]\n",
            " ...\n",
            " [  0.   -55.   -48.86 ... -75.4    0.   -61.57]\n",
            " [  0.   -56.25 -43.39 ... -68.76   0.   -61.91]\n",
            " [  0.   -57.75 -46.25 ... -70.48   0.   -61.5 ]]\n"
          ],
          "name": "stdout"
        }
      ]
    },
    {
      "cell_type": "markdown",
      "metadata": {
        "id": "v8qlSAX1b6Yv"
      },
      "source": [
        "## Build & Train the Model\n",
        "\n",
        "Build and train a [TensorFlow](https://www.tensorflow.org) model using the high-level [Keras](https://www.tensorflow.org/guide/keras) API."
      ]
    },
    {
      "cell_type": "code",
      "metadata": {
        "id": "kGNFa-lX24Qo",
        "colab": {
          "base_uri": "https://localhost:8080/"
        },
        "outputId": "ae762412-5f51-4552-ffc1-cc325c989f7f"
      },
      "source": [
        "# build the model and train it\n",
        "model = tf.keras.Sequential()\n",
        "model.add(tf.keras.layers.Dense(30, activation='relu')) # relu is used for performance\n",
        "#model.add(tf.keras.layers.Dense(8, activation='relu'))\n",
        "model.add(tf.keras.layers.Dense(NUM_CLASSES, activation='softmax')) # softmax is used, because we only expect one class to occur per input\n",
        "model.compile(optimizer='rmsprop', loss='mse', metrics=['mae'])\n",
        "history = model.fit(inputs_train, outputs_train, epochs=100, batch_size=8, validation_data=(inputs_validate, outputs_validate))\n",
        "\n"
      ],
      "execution_count": 3,
      "outputs": [
        {
          "output_type": "stream",
          "text": [
            "Epoch 1/100\n",
            "140/140 [==============================] - 1s 5ms/step - loss: 0.3215 - mae: 0.3224 - val_loss: 0.3144 - val_mae: 0.3144\n",
            "Epoch 2/100\n",
            "140/140 [==============================] - 0s 2ms/step - loss: 0.3188 - mae: 0.3196 - val_loss: 0.3144 - val_mae: 0.3144\n",
            "Epoch 3/100\n",
            "140/140 [==============================] - 0s 2ms/step - loss: 0.3184 - mae: 0.3193 - val_loss: 0.3144 - val_mae: 0.3144\n",
            "Epoch 4/100\n",
            "140/140 [==============================] - 0s 2ms/step - loss: 0.3187 - mae: 0.3190 - val_loss: 0.3144 - val_mae: 0.3144\n",
            "Epoch 5/100\n",
            "140/140 [==============================] - 0s 2ms/step - loss: 0.3181 - mae: 0.3204 - val_loss: 0.3144 - val_mae: 0.3144\n",
            "Epoch 6/100\n",
            "140/140 [==============================] - 0s 2ms/step - loss: 0.3227 - mae: 0.3236 - val_loss: 0.3155 - val_mae: 0.3155\n",
            "Epoch 7/100\n",
            "140/140 [==============================] - 0s 2ms/step - loss: 0.3223 - mae: 0.3237 - val_loss: 0.3283 - val_mae: 0.3283\n",
            "Epoch 8/100\n",
            "140/140 [==============================] - 0s 2ms/step - loss: 0.3377 - mae: 0.3382 - val_loss: 0.3283 - val_mae: 0.3283\n",
            "Epoch 9/100\n",
            "140/140 [==============================] - 0s 2ms/step - loss: 0.3129 - mae: 0.3131 - val_loss: 0.3143 - val_mae: 0.3145\n",
            "Epoch 10/100\n",
            "140/140 [==============================] - 0s 2ms/step - loss: 0.3257 - mae: 0.3271 - val_loss: 0.3144 - val_mae: 0.3144\n",
            "Epoch 11/100\n",
            "140/140 [==============================] - 0s 2ms/step - loss: 0.3286 - mae: 0.3297 - val_loss: 0.3144 - val_mae: 0.3144\n",
            "Epoch 12/100\n",
            "140/140 [==============================] - 0s 2ms/step - loss: 0.3220 - mae: 0.3253 - val_loss: 0.3144 - val_mae: 0.3144\n",
            "Epoch 13/100\n",
            "140/140 [==============================] - 0s 2ms/step - loss: 0.3171 - mae: 0.3174 - val_loss: 0.3144 - val_mae: 0.3144\n",
            "Epoch 14/100\n",
            "140/140 [==============================] - 0s 2ms/step - loss: 0.3235 - mae: 0.3247 - val_loss: 0.3155 - val_mae: 0.3155\n",
            "Epoch 15/100\n",
            "140/140 [==============================] - 0s 2ms/step - loss: 0.3260 - mae: 0.3265 - val_loss: 0.3144 - val_mae: 0.3144\n",
            "Epoch 16/100\n",
            "140/140 [==============================] - 0s 2ms/step - loss: 0.3214 - mae: 0.3218 - val_loss: 0.3144 - val_mae: 0.3144\n",
            "Epoch 17/100\n",
            "140/140 [==============================] - 0s 2ms/step - loss: 0.3210 - mae: 0.3232 - val_loss: 0.3140 - val_mae: 0.3144\n",
            "Epoch 18/100\n",
            "140/140 [==============================] - 0s 2ms/step - loss: 0.3135 - mae: 0.3179 - val_loss: 0.3146 - val_mae: 0.3154\n",
            "Epoch 19/100\n",
            "140/140 [==============================] - 0s 2ms/step - loss: 0.3215 - mae: 0.3230 - val_loss: 0.3143 - val_mae: 0.3150\n",
            "Epoch 20/100\n",
            "140/140 [==============================] - 0s 2ms/step - loss: 0.2720 - mae: 0.3041 - val_loss: 0.2924 - val_mae: 0.3113\n",
            "Epoch 21/100\n",
            "140/140 [==============================] - 0s 2ms/step - loss: 0.2535 - mae: 0.2916 - val_loss: 0.2372 - val_mae: 0.2912\n",
            "Epoch 22/100\n",
            "140/140 [==============================] - 0s 2ms/step - loss: 0.2446 - mae: 0.2759 - val_loss: 0.2434 - val_mae: 0.2931\n",
            "Epoch 23/100\n",
            "140/140 [==============================] - 0s 2ms/step - loss: 0.2468 - mae: 0.2798 - val_loss: 0.2126 - val_mae: 0.2636\n",
            "Epoch 24/100\n",
            "140/140 [==============================] - 0s 2ms/step - loss: 0.2353 - mae: 0.2726 - val_loss: 0.2138 - val_mae: 0.2526\n",
            "Epoch 25/100\n",
            "140/140 [==============================] - 0s 2ms/step - loss: 0.2271 - mae: 0.2710 - val_loss: 0.1971 - val_mae: 0.2461\n",
            "Epoch 26/100\n",
            "140/140 [==============================] - 0s 2ms/step - loss: 0.2071 - mae: 0.2523 - val_loss: 0.1986 - val_mae: 0.2467\n",
            "Epoch 27/100\n",
            "140/140 [==============================] - 0s 2ms/step - loss: 0.2006 - mae: 0.2429 - val_loss: 0.2623 - val_mae: 0.2966\n",
            "Epoch 28/100\n",
            "140/140 [==============================] - 0s 2ms/step - loss: 0.1820 - mae: 0.2213 - val_loss: 0.2341 - val_mae: 0.2567\n",
            "Epoch 29/100\n",
            "140/140 [==============================] - 0s 2ms/step - loss: 0.1774 - mae: 0.2188 - val_loss: 0.1843 - val_mae: 0.2187\n",
            "Epoch 30/100\n",
            "140/140 [==============================] - 0s 2ms/step - loss: 0.1703 - mae: 0.2151 - val_loss: 0.2338 - val_mae: 0.2484\n",
            "Epoch 31/100\n",
            "140/140 [==============================] - 0s 2ms/step - loss: 0.1662 - mae: 0.2075 - val_loss: 0.1373 - val_mae: 0.1740\n",
            "Epoch 32/100\n",
            "140/140 [==============================] - 0s 2ms/step - loss: 0.1630 - mae: 0.2049 - val_loss: 0.2388 - val_mae: 0.2507\n",
            "Epoch 33/100\n",
            "140/140 [==============================] - 0s 2ms/step - loss: 0.1571 - mae: 0.2002 - val_loss: 0.2080 - val_mae: 0.2337\n",
            "Epoch 34/100\n",
            "140/140 [==============================] - 0s 2ms/step - loss: 0.1545 - mae: 0.1984 - val_loss: 0.1377 - val_mae: 0.1973\n",
            "Epoch 35/100\n",
            "140/140 [==============================] - 0s 2ms/step - loss: 0.1563 - mae: 0.2015 - val_loss: 0.1903 - val_mae: 0.2192\n",
            "Epoch 36/100\n",
            "140/140 [==============================] - 0s 2ms/step - loss: 0.1547 - mae: 0.1975 - val_loss: 0.1356 - val_mae: 0.1779\n",
            "Epoch 37/100\n",
            "140/140 [==============================] - 0s 2ms/step - loss: 0.1588 - mae: 0.2038 - val_loss: 0.1726 - val_mae: 0.2232\n",
            "Epoch 38/100\n",
            "140/140 [==============================] - 0s 2ms/step - loss: 0.1384 - mae: 0.2138 - val_loss: 0.1408 - val_mae: 0.2205\n",
            "Epoch 39/100\n",
            "140/140 [==============================] - 0s 2ms/step - loss: 0.1168 - mae: 0.1941 - val_loss: 0.1065 - val_mae: 0.1875\n",
            "Epoch 40/100\n",
            "140/140 [==============================] - 0s 2ms/step - loss: 0.1180 - mae: 0.1866 - val_loss: 0.1064 - val_mae: 0.1608\n",
            "Epoch 41/100\n",
            "140/140 [==============================] - 0s 2ms/step - loss: 0.1079 - mae: 0.1762 - val_loss: 0.0931 - val_mae: 0.1706\n",
            "Epoch 42/100\n",
            "140/140 [==============================] - 0s 2ms/step - loss: 0.1020 - mae: 0.1672 - val_loss: 0.1083 - val_mae: 0.1640\n",
            "Epoch 43/100\n",
            "140/140 [==============================] - 0s 2ms/step - loss: 0.1107 - mae: 0.1791 - val_loss: 0.1064 - val_mae: 0.1705\n",
            "Epoch 44/100\n",
            "140/140 [==============================] - 0s 2ms/step - loss: 0.1032 - mae: 0.1689 - val_loss: 0.0883 - val_mae: 0.1488\n",
            "Epoch 45/100\n",
            "140/140 [==============================] - 0s 2ms/step - loss: 0.1033 - mae: 0.1637 - val_loss: 0.0834 - val_mae: 0.1512\n",
            "Epoch 46/100\n",
            "140/140 [==============================] - 0s 2ms/step - loss: 0.0995 - mae: 0.1627 - val_loss: 0.0815 - val_mae: 0.1368\n",
            "Epoch 47/100\n",
            "140/140 [==============================] - 0s 2ms/step - loss: 0.0955 - mae: 0.1550 - val_loss: 0.0794 - val_mae: 0.1330\n",
            "Epoch 48/100\n",
            "140/140 [==============================] - 0s 2ms/step - loss: 0.0872 - mae: 0.1421 - val_loss: 0.0868 - val_mae: 0.1490\n",
            "Epoch 49/100\n",
            "140/140 [==============================] - 0s 2ms/step - loss: 0.0900 - mae: 0.1455 - val_loss: 0.0862 - val_mae: 0.1378\n",
            "Epoch 50/100\n",
            "140/140 [==============================] - 0s 2ms/step - loss: 0.0972 - mae: 0.1577 - val_loss: 0.0738 - val_mae: 0.1294\n",
            "Epoch 51/100\n",
            "140/140 [==============================] - 0s 2ms/step - loss: 0.0829 - mae: 0.1341 - val_loss: 0.1030 - val_mae: 0.1649\n",
            "Epoch 52/100\n",
            "140/140 [==============================] - 0s 2ms/step - loss: 0.0819 - mae: 0.1402 - val_loss: 0.0780 - val_mae: 0.1354\n",
            "Epoch 53/100\n",
            "140/140 [==============================] - 0s 2ms/step - loss: 0.0904 - mae: 0.1482 - val_loss: 0.1086 - val_mae: 0.1592\n",
            "Epoch 54/100\n",
            "140/140 [==============================] - 0s 2ms/step - loss: 0.0917 - mae: 0.1472 - val_loss: 0.0721 - val_mae: 0.1214\n",
            "Epoch 55/100\n",
            "140/140 [==============================] - 0s 2ms/step - loss: 0.0876 - mae: 0.1456 - val_loss: 0.0690 - val_mae: 0.1225\n",
            "Epoch 56/100\n",
            "140/140 [==============================] - 0s 2ms/step - loss: 0.0883 - mae: 0.1440 - val_loss: 0.0827 - val_mae: 0.1390\n",
            "Epoch 57/100\n",
            "140/140 [==============================] - 0s 2ms/step - loss: 0.0830 - mae: 0.1358 - val_loss: 0.0841 - val_mae: 0.1443\n",
            "Epoch 58/100\n",
            "140/140 [==============================] - 0s 2ms/step - loss: 0.0848 - mae: 0.1390 - val_loss: 0.0704 - val_mae: 0.1163\n",
            "Epoch 59/100\n",
            "140/140 [==============================] - 0s 2ms/step - loss: 0.0810 - mae: 0.1343 - val_loss: 0.0781 - val_mae: 0.1333\n",
            "Epoch 60/100\n",
            "140/140 [==============================] - 0s 2ms/step - loss: 0.0897 - mae: 0.1414 - val_loss: 0.0706 - val_mae: 0.1235\n",
            "Epoch 61/100\n",
            "140/140 [==============================] - 0s 2ms/step - loss: 0.0822 - mae: 0.1350 - val_loss: 0.1046 - val_mae: 0.1676\n",
            "Epoch 62/100\n",
            "140/140 [==============================] - 0s 2ms/step - loss: 0.0865 - mae: 0.1394 - val_loss: 0.0676 - val_mae: 0.1168\n",
            "Epoch 63/100\n",
            "140/140 [==============================] - 0s 2ms/step - loss: 0.0848 - mae: 0.1377 - val_loss: 0.0751 - val_mae: 0.1289\n",
            "Epoch 64/100\n",
            "140/140 [==============================] - 0s 2ms/step - loss: 0.0833 - mae: 0.1320 - val_loss: 0.0656 - val_mae: 0.1149\n",
            "Epoch 65/100\n",
            "140/140 [==============================] - 0s 2ms/step - loss: 0.0714 - mae: 0.1186 - val_loss: 0.0810 - val_mae: 0.1310\n",
            "Epoch 66/100\n",
            "140/140 [==============================] - 0s 2ms/step - loss: 0.0756 - mae: 0.1214 - val_loss: 0.0642 - val_mae: 0.1096\n",
            "Epoch 67/100\n",
            "140/140 [==============================] - 0s 2ms/step - loss: 0.0860 - mae: 0.1351 - val_loss: 0.1265 - val_mae: 0.1787\n",
            "Epoch 68/100\n",
            "140/140 [==============================] - 0s 2ms/step - loss: 0.0787 - mae: 0.1271 - val_loss: 0.0687 - val_mae: 0.1159\n",
            "Epoch 69/100\n",
            "140/140 [==============================] - 0s 2ms/step - loss: 0.0745 - mae: 0.1220 - val_loss: 0.0760 - val_mae: 0.1199\n",
            "Epoch 70/100\n",
            "140/140 [==============================] - 0s 2ms/step - loss: 0.0788 - mae: 0.1246 - val_loss: 0.0683 - val_mae: 0.1103\n",
            "Epoch 71/100\n",
            "140/140 [==============================] - 0s 2ms/step - loss: 0.0797 - mae: 0.1271 - val_loss: 0.0641 - val_mae: 0.1045\n",
            "Epoch 72/100\n",
            "140/140 [==============================] - 0s 2ms/step - loss: 0.0827 - mae: 0.1284 - val_loss: 0.0703 - val_mae: 0.1151\n",
            "Epoch 73/100\n",
            "140/140 [==============================] - 0s 2ms/step - loss: 0.0778 - mae: 0.1228 - val_loss: 0.0704 - val_mae: 0.1111\n",
            "Epoch 74/100\n",
            "140/140 [==============================] - 0s 2ms/step - loss: 0.0738 - mae: 0.1196 - val_loss: 0.1097 - val_mae: 0.1606\n",
            "Epoch 75/100\n",
            "140/140 [==============================] - 0s 2ms/step - loss: 0.0798 - mae: 0.1259 - val_loss: 0.0672 - val_mae: 0.1115\n",
            "Epoch 76/100\n",
            "140/140 [==============================] - 0s 2ms/step - loss: 0.0830 - mae: 0.1289 - val_loss: 0.0734 - val_mae: 0.1084\n",
            "Epoch 77/100\n",
            "140/140 [==============================] - 0s 2ms/step - loss: 0.0751 - mae: 0.1191 - val_loss: 0.0708 - val_mae: 0.1085\n",
            "Epoch 78/100\n",
            "140/140 [==============================] - 0s 2ms/step - loss: 0.0780 - mae: 0.1252 - val_loss: 0.0681 - val_mae: 0.1090\n",
            "Epoch 79/100\n",
            "140/140 [==============================] - 0s 2ms/step - loss: 0.0722 - mae: 0.1142 - val_loss: 0.0993 - val_mae: 0.1575\n",
            "Epoch 80/100\n",
            "140/140 [==============================] - 0s 2ms/step - loss: 0.0826 - mae: 0.1287 - val_loss: 0.0842 - val_mae: 0.1144\n",
            "Epoch 81/100\n",
            "140/140 [==============================] - 0s 2ms/step - loss: 0.0779 - mae: 0.1199 - val_loss: 0.0786 - val_mae: 0.1186\n",
            "Epoch 82/100\n",
            "140/140 [==============================] - 0s 2ms/step - loss: 0.0832 - mae: 0.1300 - val_loss: 0.0997 - val_mae: 0.1567\n",
            "Epoch 83/100\n",
            "140/140 [==============================] - 0s 2ms/step - loss: 0.0696 - mae: 0.1112 - val_loss: 0.1145 - val_mae: 0.1459\n",
            "Epoch 84/100\n",
            "140/140 [==============================] - 0s 2ms/step - loss: 0.0816 - mae: 0.1247 - val_loss: 0.0681 - val_mae: 0.1147\n",
            "Epoch 85/100\n",
            "140/140 [==============================] - 0s 2ms/step - loss: 0.0817 - mae: 0.1236 - val_loss: 0.0626 - val_mae: 0.0992\n",
            "Epoch 86/100\n",
            "140/140 [==============================] - 0s 2ms/step - loss: 0.0711 - mae: 0.1101 - val_loss: 0.0593 - val_mae: 0.0998\n",
            "Epoch 87/100\n",
            "140/140 [==============================] - 0s 2ms/step - loss: 0.0751 - mae: 0.1145 - val_loss: 0.0683 - val_mae: 0.1107\n",
            "Epoch 88/100\n",
            "140/140 [==============================] - 0s 2ms/step - loss: 0.0753 - mae: 0.1190 - val_loss: 0.0849 - val_mae: 0.1331\n",
            "Epoch 89/100\n",
            "140/140 [==============================] - 0s 2ms/step - loss: 0.0781 - mae: 0.1186 - val_loss: 0.0622 - val_mae: 0.0984\n",
            "Epoch 90/100\n",
            "140/140 [==============================] - 0s 2ms/step - loss: 0.0820 - mae: 0.1263 - val_loss: 0.0635 - val_mae: 0.1046\n",
            "Epoch 91/100\n",
            "140/140 [==============================] - 0s 2ms/step - loss: 0.0642 - mae: 0.1035 - val_loss: 0.0657 - val_mae: 0.1058\n",
            "Epoch 92/100\n",
            "140/140 [==============================] - 0s 2ms/step - loss: 0.0787 - mae: 0.1209 - val_loss: 0.0625 - val_mae: 0.0945\n",
            "Epoch 93/100\n",
            "140/140 [==============================] - 0s 2ms/step - loss: 0.0736 - mae: 0.1139 - val_loss: 0.0676 - val_mae: 0.1027\n",
            "Epoch 94/100\n",
            "140/140 [==============================] - 0s 2ms/step - loss: 0.0811 - mae: 0.1241 - val_loss: 0.0735 - val_mae: 0.1222\n",
            "Epoch 95/100\n",
            "140/140 [==============================] - 0s 2ms/step - loss: 0.0798 - mae: 0.1234 - val_loss: 0.0819 - val_mae: 0.1250\n",
            "Epoch 96/100\n",
            "140/140 [==============================] - 0s 2ms/step - loss: 0.0776 - mae: 0.1142 - val_loss: 0.0610 - val_mae: 0.0981\n",
            "Epoch 97/100\n",
            "140/140 [==============================] - 0s 2ms/step - loss: 0.0784 - mae: 0.1154 - val_loss: 0.0618 - val_mae: 0.1076\n",
            "Epoch 98/100\n",
            "140/140 [==============================] - 0s 2ms/step - loss: 0.0728 - mae: 0.1150 - val_loss: 0.0662 - val_mae: 0.1016\n",
            "Epoch 99/100\n",
            "140/140 [==============================] - 0s 2ms/step - loss: 0.0771 - mae: 0.1155 - val_loss: 0.0712 - val_mae: 0.1091\n",
            "Epoch 100/100\n",
            "140/140 [==============================] - 0s 2ms/step - loss: 0.0723 - mae: 0.1085 - val_loss: 0.0779 - val_mae: 0.1105\n"
          ],
          "name": "stdout"
        }
      ]
    },
    {
      "cell_type": "markdown",
      "metadata": {
        "id": "guMjtfa42ahM"
      },
      "source": [
        "### Run with Test Data\n",
        "Put our test data into the model and plot the predictions\n"
      ]
    },
    {
      "cell_type": "code",
      "metadata": {
        "id": "V3Y0CCWJz2EK",
        "colab": {
          "base_uri": "https://localhost:8080/",
          "height": 621
        },
        "outputId": "c318ccae-33c6-4685-f94f-c068560dcc4b"
      },
      "source": [
        "# use the model to predict the test inputs\n",
        "predictions = model.predict(inputs_test)\n",
        "\n",
        "# print the predictions and the expected ouputs\n",
        "print(\"predictions =\\n\", np.round(predictions, decimals=3))\n",
        "print(\"actual =\\n\", outputs_test)\n",
        "\n",
        "# Plot the predictions along with to the test data\n",
        "plt.clf()\n",
        "plt.title('Training data predicted vs actual values')\n",
        "plt.plot(inputs_test, outputs_test, 'b.', label='Actual')\n",
        "plt.plot(inputs_test, predictions, 'r.', label='Predicted')\n",
        "plt.show()"
      ],
      "execution_count": 4,
      "outputs": [
        {
          "output_type": "stream",
          "text": [
            "predictions =\n",
            " [[0.    0.916 0.    0.084 0.   ]\n",
            " [0.    0.012 0.17  0.818 0.   ]\n",
            " [0.    0.017 0.396 0.585 0.001]\n",
            " ...\n",
            " [0.    0.    0.994 0.006 0.   ]\n",
            " [0.    0.015 0.008 0.978 0.   ]\n",
            " [0.    0.028 0.909 0.059 0.003]]\n",
            "actual =\n",
            " [[0. 1. 0. 0. 0.]\n",
            " [0. 0. 0. 1. 0.]\n",
            " [0. 0. 0. 1. 0.]\n",
            " ...\n",
            " [0. 0. 1. 0. 0.]\n",
            " [0. 0. 0. 1. 0.]\n",
            " [1. 0. 0. 0. 0.]]\n"
          ],
          "name": "stdout"
        },
        {
          "output_type": "stream",
          "text": [
            "/usr/local/lib/python3.7/dist-packages/ipykernel_launcher.py:11: MatplotlibDeprecationWarning: cycling among columns of inputs with non-matching shapes is deprecated.\n",
            "  # This is added back by InteractiveShellApp.init_path()\n",
            "/usr/local/lib/python3.7/dist-packages/ipykernel_launcher.py:12: MatplotlibDeprecationWarning: cycling among columns of inputs with non-matching shapes is deprecated.\n",
            "  if sys.path[0] == '':\n"
          ],
          "name": "stderr"
        },
        {
          "output_type": "display_data",
          "data": {
            "image/png": "[encoded data removed]",
            "text/plain": [
              "<Figure size 432x288 with 1 Axes>"
            ]
          },
          "metadata": {
            "tags": [],
            "needs_background": "light"
          }
        }
      ]
    },
    {
      "cell_type": "markdown",
      "metadata": {
        "id": "j7DO6xxXVCym"
      },
      "source": [
        "# Convert the Trained Model to Tensor Flow Lite\n",
        "\n",
        "The next cell converts the model to TFlite format. The size in bytes of the model is also printed out."
      ]
    },
    {
      "cell_type": "code",
      "metadata": {
        "id": "0Xn1-Rn9Cp_8",
        "colab": {
          "base_uri": "https://localhost:8080/"
        },
        "outputId": "368c6a10-de09-4e18-d311-f414bd35e8f2"
      },
      "source": [
        "# Convert the model to the TensorFlow Lite format without quantization\n",
        "converter = tf.lite.TFLiteConverter.from_keras_model(model)\n",
        "tflite_model = converter.convert()\n",
        "\n",
        "# Save the model to disk\n",
        "open(\"locationAttempt_model.tflite\", \"wb\").write(tflite_model)\n",
        "  \n",
        "import os\n",
        "basic_model_size = os.path.getsize(\"locationAttempt_model.tflite\")\n",
        "print(\"Model is %d bytes\" % basic_model_size)\n",
        "  \n",
        "  "
      ],
      "execution_count": 5,
      "outputs": [
        {
          "output_type": "stream",
          "text": [
            "INFO:tensorflow:Assets written to: /tmp/tmp15zz3nr7/assets\n",
            "Model is 5720 bytes\n"
          ],
          "name": "stdout"
        }
      ]
    },
    {
      "cell_type": "markdown",
      "metadata": {
        "id": "ykccQn7SXrUX"
      },
      "source": [
        "## Encode the Model in an Arduino Header File \n",
        "\n",
        "The next cell creates a constant byte array that contains the TFlite model. Import it as a tab with the sketch below."
      ]
    },
    {
      "cell_type": "code",
      "metadata": {
        "id": "9J33uwpNtAku",
        "colab": {
          "base_uri": "https://localhost:8080/"
        },
        "outputId": "44276a40-d691-4bde-e442-741b6b1af066"
      },
      "source": [
        "!echo \"const unsigned char model[] = {\" > /content/model.h\n",
        "!cat locationAttempt_model.tflite | xxd -i      >> /content/model.h\n",
        "!echo \"};\"                              >> /content/model.h\n",
        "\n",
        "import os\n",
        "model_h_size = os.path.getsize(\"model.h\")\n",
        "print(f\"Header file, model.h, is {model_h_size:,} bytes.\")\n",
        "print(\"\\nOpen the side panel (refresh if needed). Double click model.h to download the file.\")"
      ],
      "execution_count": 6,
      "outputs": [
        {
          "output_type": "stream",
          "text": [
            "Header file, model.h, is 35,308 bytes.\n",
            "\n",
            "Open the side panel (refresh if needed). Double click model.h to download the file.\n"
          ],
          "name": "stdout"
        }
      ]
    },
    {
      "cell_type": "markdown",
      "metadata": {
        "id": "1eSkHZaLzMId"
      },
      "source": [
        "# Realtime Classification of Sensor Data on Arduino\n",
        "\n",
        "Now it's time to recompile with the newly created files"
      ]
    }
  ]
}